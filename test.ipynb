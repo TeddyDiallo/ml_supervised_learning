{
 "cells": [
  {
   "cell_type": "code",
   "execution_count": 2,
   "metadata": {},
   "outputs": [],
   "source": [
    "import pandas as pd\n",
    "import numpy as np\n",
    "import seaborn as sns\n",
    "import matplotlib.pyplot as plt\n",
    "\n",
    "     "
   ]
  },
  {
   "cell_type": "code",
   "execution_count": null,
   "metadata": {},
   "outputs": [],
   "source": [
    "df_00 = pd.read_csv(\"dataset-of-00s.csv\")\n",
    "df_10 = pd.read_csv(\"dataset-of-10s.csv\")\n",
    "df_60 = pd.read_csv(\"dataset-of-60s.csv\")\n",
    "df_70 = pd.read_csv(\"dataset-of-70s.csv\")\n",
    "df_80 = pd.read_csv(\"dataset-of-80s.csv\")\n",
    "df_90 = pd.read_csv(\"dataset-of-90s.csv\")"
   ]
  },
  {
   "cell_type": "code",
   "execution_count": null,
   "metadata": {},
   "outputs": [],
   "source": [
    "df = pd.concat([df_00, df_10, df_60, df_70, df_80, df_90])\n"
   ]
  }
 ],
 "metadata": {
  "kernelspec": {
   "display_name": "base",
   "language": "python",
   "name": "python3"
  },
  "language_info": {
   "codemirror_mode": {
    "name": "ipython",
    "version": 3
   },
   "file_extension": ".py",
   "mimetype": "text/x-python",
   "name": "python",
   "nbconvert_exporter": "python",
   "pygments_lexer": "ipython3",
   "version": "3.11.4"
  }
 },
 "nbformat": 4,
 "nbformat_minor": 2
}
